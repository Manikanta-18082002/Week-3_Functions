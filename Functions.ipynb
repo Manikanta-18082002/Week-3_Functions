{
 "cells": [
  {
   "cell_type": "markdown",
   "id": "37926df4",
   "metadata": {},
   "source": [
    "Q1. Which keyword is used to create a function? Create a function to return a list of odd numbers in the\n",
    "range of 1 to 25."
   ]
  },
  {
   "cell_type": "code",
   "execution_count": 3,
   "id": "9fd9526a",
   "metadata": {},
   "outputs": [
    {
     "data": {
      "text/plain": [
       "[1, 3, 5, 7, 9, 11, 13, 15, 17, 19, 21, 23, 25]"
      ]
     },
     "execution_count": 3,
     "metadata": {},
     "output_type": "execute_result"
    }
   ],
   "source": [
    "#def  keyword is used to create function\n",
    "\n",
    "def odd_num(n):\n",
    "    li = []\n",
    "    for i in n:\n",
    "        if i%2!=0:\n",
    "            li.append(i)\n",
    "    return li\n",
    "\n",
    "n = range(1,26)\n",
    "odd_num(n)\n",
    "            "
   ]
  },
  {
   "cell_type": "code",
   "execution_count": null,
   "id": "9882d69c",
   "metadata": {},
   "outputs": [],
   "source": []
  },
  {
   "cell_type": "markdown",
   "id": "167945af",
   "metadata": {},
   "source": [
    "Q2. Why *args and **kwargs is used in some functions? Create a function each for *args and **kwargs to\n",
    "demonstrate their use."
   ]
  },
  {
   "cell_type": "code",
   "execution_count": 8,
   "id": "1ec0ecdc",
   "metadata": {},
   "outputs": [
    {
     "name": "stdout",
     "output_type": "stream",
     "text": [
      "*args:  (1, 20, 45, 32, 78)\n",
      "**kwargs:  {'a': 23, 'b': 43, 'c': 56}\n"
     ]
    }
   ],
   "source": [
    "# *args and **kwargs are special syntax used when defining functions to allow them to accept arguments and keyword arguments, atleast 1 or more\n",
    "\n",
    "#*args\n",
    "\n",
    "def demo(*args): #can be any name instead of args\n",
    "    return args\n",
    "\n",
    "print(\"*args: \",demo(1,20,45,32,78))\n",
    "\n",
    "\n",
    "#**kwargs\n",
    "def demo2(**kwargs): #can be any name instead of kwargs\n",
    "    return kwargs\n",
    "\n",
    "print(\"**kwargs: \",demo2(a= 23, b= 43, c=56))"
   ]
  },
  {
   "cell_type": "code",
   "execution_count": null,
   "id": "2c3f213a",
   "metadata": {},
   "outputs": [],
   "source": []
  },
  {
   "cell_type": "markdown",
   "id": "da4eaa33",
   "metadata": {},
   "source": [
    "Q3. What is an iterator in python? Name the method used to initialise the iterator object and the method\n",
    "used for iteration. Use these methods to print the first five elements of the given list [2, 4, 6, 8, 10, 12, 14, 16,\n",
    "18, 20]."
   ]
  },
  {
   "cell_type": "code",
   "execution_count": 13,
   "id": "10efcc64",
   "metadata": {},
   "outputs": [
    {
     "name": "stdout",
     "output_type": "stream",
     "text": [
      "An iterator is an object that represents a stream of data and provides a way to access elements from that stream one at a time. \n",
      "Iterators are used to traverse through sequences like (lists, tuples, dictionaries), and other iterable objects.\n",
      "2\n",
      "4\n",
      "6\n",
      "8\n",
      "10\n"
     ]
    }
   ],
   "source": [
    "print(\"An iterator is an object that represents a stream of data and provides a way to access elements from that stream one at a time. \\nIterators are used to traverse through sequences like (lists, tuples, dictionaries), and other iterable objects.\")\n",
    "\n",
    "li =[2, 4, 6, 8, 10, 12, 14, 16, 18, 20]\n",
    "iterate = iter(li)\n",
    "\n",
    "for i in range(5):\n",
    "    saved = next(iterate)\n",
    "    print(saved)"
   ]
  },
  {
   "cell_type": "code",
   "execution_count": null,
   "id": "329fead5",
   "metadata": {},
   "outputs": [],
   "source": []
  },
  {
   "cell_type": "markdown",
   "id": "d809a76c",
   "metadata": {},
   "source": [
    "Q4. What is a generator function in python? Why yield keyword is used? Give an example of a generator\n",
    "function."
   ]
  },
  {
   "cell_type": "code",
   "execution_count": 15,
   "id": "35ac8140",
   "metadata": {},
   "outputs": [
    {
     "name": "stdout",
     "output_type": "stream",
     "text": [
      "It allows you to create an iterator. It generates values one at a time when requested, rather than \n",
      "generating and storing all values in memory at once. \n",
      "0\n",
      "2\n",
      "4\n",
      "6\n",
      "8\n",
      "10\n",
      "12\n"
     ]
    }
   ],
   "source": [
    "print(\"It allows you to create an iterator. It generates values one at a time when requested, rather than \\ngenerating and storing all values in memory at once. \")\n",
    "\n",
    "def square(n):\n",
    "    for i in range(n):\n",
    "        yield i*2\n",
    "        \n",
    "ans = square(7)\n",
    "\n",
    "for i in ans:\n",
    "    print(i)"
   ]
  },
  {
   "cell_type": "code",
   "execution_count": null,
   "id": "fa55069d",
   "metadata": {},
   "outputs": [],
   "source": []
  },
  {
   "cell_type": "markdown",
   "id": "ad704977",
   "metadata": {},
   "source": [
    "Q5. Create a generator function for prime numbers less than 1000. Use the next() method to print the first 20 prime numbers."
   ]
  },
  {
   "cell_type": "code",
   "execution_count": 16,
   "id": "c2f01f60",
   "metadata": {},
   "outputs": [
    {
     "name": "stdout",
     "output_type": "stream",
     "text": [
      "2\n",
      "3\n",
      "5\n",
      "7\n",
      "11\n",
      "13\n",
      "17\n",
      "19\n",
      "23\n",
      "29\n",
      "31\n",
      "37\n",
      "41\n",
      "43\n",
      "47\n",
      "53\n",
      "59\n",
      "61\n",
      "67\n",
      "71\n"
     ]
    }
   ],
   "source": [
    "def is_prime(num):\n",
    "    if num <= 1:\n",
    "        return False\n",
    "    if num == 2:\n",
    "        return True\n",
    "    if num % 2 == 0:\n",
    "        return False\n",
    "    for i in range(3, int(num**0.5) + 1, 2):\n",
    "        if num % i == 0:\n",
    "            return False\n",
    "    return True\n",
    "\n",
    "def generate_primes():\n",
    "    num = 2\n",
    "    while True:\n",
    "        if is_prime(num):\n",
    "            yield num\n",
    "        num += 1\n",
    "\n",
    "# Creating a generator object for prime numbers\n",
    "prime_generator = generate_primes()\n",
    "\n",
    "# Printing the first 20 prime numbers using the next() method\n",
    "for _ in range(20):\n",
    "    prime = next(prime_generator)\n",
    "    print(prime)\n"
   ]
  },
  {
   "cell_type": "code",
   "execution_count": null,
   "id": "b9d775eb",
   "metadata": {},
   "outputs": [],
   "source": []
  }
 ],
 "metadata": {
  "kernelspec": {
   "display_name": "Python 3 (ipykernel)",
   "language": "python",
   "name": "python3"
  },
  "language_info": {
   "codemirror_mode": {
    "name": "ipython",
    "version": 3
   },
   "file_extension": ".py",
   "mimetype": "text/x-python",
   "name": "python",
   "nbconvert_exporter": "python",
   "pygments_lexer": "ipython3",
   "version": "3.11.4"
  }
 },
 "nbformat": 4,
 "nbformat_minor": 5
}
